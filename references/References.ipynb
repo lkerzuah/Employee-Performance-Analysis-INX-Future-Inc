{
 "cells": [
  {
   "cell_type": "markdown",
   "id": "57c525ea-a456-44b1-86a0-a7394ae9854a",
   "metadata": {},
   "source": [
    "# References\n",
    "This section includes all supporting materials used throughout the project, including data dictionaries, manuals, and explanatory resources that guided the analysis and modeling process.\n",
    "\n",
    "**1. Data Dictionary**\n",
    "- Provided by IABAC as part of the Certified Data Scientist – Project module\n",
    "- Contains detailed descriptions of all 28 features, including:\n",
    "    - Feature names and types (categorical, numerical, alphanumeric)\n",
    "    - Value ranges and encoding schemes\n",
    "    - Target variable definition: PerformanceRating\n",
    "  \n",
    "**2. Project Manual**\n",
    "- IABAC™ Project Submission Guidelines\n",
    "- Outlines expectations for:\n",
    "- Data preprocessing steps\n",
    "- Model selection criteria\n",
    "- Evaluation metrics\n",
    "- Reporting format and deliverables\n",
    "    \n",
    "**3. Explanatory Materials**\n",
    "- Python Documentation – Official references for libraries used:\n",
    "    - Pandas\n",
    "    - Scikit-learn\n",
    "    - Matplotlib\n",
    "    - Seaborn\n",
    "- Machine Learning References:\n",
    "    - Random Forest Classifier theory and implementation\n",
    "    - Feature importance techniques\n",
    "    - One-hot encoding methodology\n",
    "- Statistical Concepts:\n",
    "    - Distribution analysis\n",
    "    - Correlation heatmaps\n",
    "    - Categorical vs. numerical feature treatment"
   ]
  },
  {
   "cell_type": "code",
   "execution_count": null,
   "id": "435789e1-531c-47d9-859b-491b9391e89b",
   "metadata": {},
   "outputs": [],
   "source": []
  }
 ],
 "metadata": {
  "kernelspec": {
   "display_name": "Python 3 (ipykernel)",
   "language": "python",
   "name": "python3"
  },
  "language_info": {
   "codemirror_mode": {
    "name": "ipython",
    "version": 3
   },
   "file_extension": ".py",
   "mimetype": "text/x-python",
   "name": "python",
   "nbconvert_exporter": "python",
   "pygments_lexer": "ipython3",
   "version": "3.13.5"
  }
 },
 "nbformat": 4,
 "nbformat_minor": 5
}
